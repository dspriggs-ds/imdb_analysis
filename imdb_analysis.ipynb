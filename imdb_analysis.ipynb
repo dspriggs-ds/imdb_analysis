{
 "cells": [
  {
   "cell_type": "code",
   "execution_count": 0,
   "metadata": {
    "application/vnd.databricks.v1+cell": {
     "cellMetadata": {
      "byteLimit": 2048000,
      "rowLimit": 10000
     },
     "inputWidgets": {},
     "nuid": "6473428c-7d72-47bd-963b-424787d219cc",
     "showTitle": false,
     "tableResultSettingsMap": {},
     "title": ""
    }
   },
   "outputs": [],
   "source": [
    "%pip install bs4"
   ]
  },
  {
   "cell_type": "code",
   "execution_count": 0,
   "metadata": {
    "application/vnd.databricks.v1+cell": {
     "cellMetadata": {
      "byteLimit": 2048000,
      "rowLimit": 10000
     },
     "inputWidgets": {},
     "nuid": "04c9fdc5-137a-40ec-9c9e-af34ca466230",
     "showTitle": false,
     "tableResultSettingsMap": {},
     "title": ""
    }
   },
   "outputs": [],
   "source": [
    "dbutils.library.restartPython()"
   ]
  },
  {
   "cell_type": "code",
   "execution_count": 0,
   "metadata": {
    "application/vnd.databricks.v1+cell": {
     "cellMetadata": {
      "byteLimit": 2048000,
      "rowLimit": 10000
     },
     "inputWidgets": {},
     "nuid": "e250ca26-99ae-42f7-91fb-72f06f153fb4",
     "showTitle": false,
     "tableResultSettingsMap": {},
     "title": ""
    }
   },
   "outputs": [],
   "source": [
    "import os\n",
    "import pandas as pd\n",
    "import requests\n",
    "import shutil\n",
    "import urllib.request\n",
    "from bs4 import BeautifulSoup\n",
    "from delta.tables import DeltaTable\n",
    "from pyspark.sql.functions import col, countDistinct, count, desc"
   ]
  },
  {
   "cell_type": "code",
   "execution_count": 0,
   "metadata": {
    "application/vnd.databricks.v1+cell": {
     "cellMetadata": {
      "byteLimit": 2048000,
      "rowLimit": 10000
     },
     "inputWidgets": {},
     "nuid": "b3a3dd2d-afc4-4c27-bce1-27c0bda7635a",
     "showTitle": false,
     "tableResultSettingsMap": {},
     "title": ""
    }
   },
   "outputs": [],
   "source": [
    "download_path = '/Volumes/generaldata/dataanalysis/upload/imdb/'\n",
    "url = 'https://datasets.imdbws.com/'\n",
    "catalog_name = \"data_analysis\"\n",
    "schema_name=\"imdb_data\"\n",
    "spark.sql(\"CREATE SCHEMA IF NOT EXISTS {0}.{1};\".format(catalog_name,schema_name))"
   ]
  },
  {
   "cell_type": "code",
   "execution_count": 0,
   "metadata": {
    "application/vnd.databricks.v1+cell": {
     "cellMetadata": {
      "byteLimit": 2048000,
      "rowLimit": 10000
     },
     "inputWidgets": {},
     "nuid": "3310efb2-ad4e-4b99-9ebb-624712268ca8",
     "showTitle": false,
     "tableResultSettingsMap": {},
     "title": ""
    }
   },
   "outputs": [],
   "source": [
    "html_content = requests.get(url).text\n",
    "# Parse the HTML content\n",
    "soup = BeautifulSoup(html_content, 'html.parser')\n",
    "\n",
    "# Find the list by its ID\n",
    "items_list = soup.find('ul')\n",
    "for item in items_list.findAll('a'):\n",
    "   file_name =item.getText()\n",
    "   decompressed_file_name = file_name.replace('.gz', '')\n",
    "   file_path = item.get('href')\n",
    "   dest_download_path = \"/tmp/{}\".format(file_name)\n",
    "   urllib.request.urlretrieve(file_path, dest_download_path)\n",
    "   os.system('gzip -d {}'.format(dest_download_path))\n",
    "   os.system(\"cp /tmp/{0} {1}\".format(decompressed_file_name, download_path))"
   ]
  },
  {
   "cell_type": "code",
   "execution_count": 0,
   "metadata": {
    "application/vnd.databricks.v1+cell": {
     "cellMetadata": {
      "byteLimit": 2048000,
      "rowLimit": 10000
     },
     "inputWidgets": {},
     "nuid": "01a78119-40c2-4b58-9abd-e62034a19768",
     "showTitle": false,
     "tableResultSettingsMap": {},
     "title": ""
    }
   },
   "outputs": [],
   "source": [
    "table_pk =[]\n",
    "for t in spark.catalog.listTables(\"data_analysis.imdb_data\"):\n",
    "    pk_data = {}\n",
    "    table = f\"{t.catalog}.{''.join(t.namespace).replace('[', '').replace(']', '').replace(' ', ']')}.{t.name}\"\n",
    "    df = spark.table(table)\n",
    "\n",
    "    columns = df.columns\n",
    "    analysis_results = []\n",
    "\n",
    "    for column in columns:\n",
    "        distinct_count = df.select(countDistinct(col(column))).collect()[0][0]\n",
    "        null_count = df.filter(col(column).isNull()).count()\n",
    "        analysis_results.append((column, distinct_count, null_count))\n",
    "\n",
    "    # Convert the results to a DataFrame for better visualization\n",
    "    analysis_df = spark.createDataFrame(analysis_results, [\"Column\", \"DistinctCount\", \"NullCount\"])\n",
    "\n",
    "    # Select the column with the maximum DistinctCount\n",
    "    max_distinct_column = analysis_df.orderBy(desc(\"DistinctCount\")).select(\"Column\").first()[0]\n",
    "    pk_data['table'] = table\n",
    "    pk_data['pk'] = max_distinct_column\n",
    "    table_pk.append(pk_data)"
   ]
  },
  {
   "cell_type": "code",
   "execution_count": 0,
   "metadata": {
    "application/vnd.databricks.v1+cell": {
     "cellMetadata": {
      "byteLimit": 2048000,
      "rowLimit": 10000
     },
     "inputWidgets": {},
     "nuid": "511d06f0-a864-4adf-adbd-9f3207f9e5ae",
     "showTitle": false,
     "tableResultSettingsMap": {},
     "title": ""
    }
   },
   "outputs": [],
   "source": [
    "for file in dbutils.fs.ls(download_path):\n",
    "    table_name = file.name.replace('.tsv', '').replace('.', '_')\n",
    "    full_table_name = f\"{catalog_name}.{schema_name}.{table_name}\"\n",
    "    if spark._jsparkSession.catalog().tableExists(full_table_name):\n",
    "        path = file.path\n",
    "        df = spark.read.option(\"delimiter\", \"\\t\").option(\"header\", \"true\").csv(path)   \n",
    "        df.write\\\n",
    "          .mode(\"overwrite\")\\\n",
    "          .option(\"overwriteSchema\", \"true\")\\\n",
    "          .saveAsTable(\"{0}.{1}.{2}\".format(catalog_name,schema_name,table_name))"
   ]
  }
 ],
 "metadata": {
  "application/vnd.databricks.v1+notebook": {
   "computePreferences": {
    "hardware": {
     "accelerator": null,
     "gpuPoolId": null,
     "memory": null
    }
   },
   "dashboards": [],
   "environmentMetadata": {
    "base_environment": "",
    "environment_version": "2"
   },
   "inputWidgetPreferences": null,
   "language": "python",
   "notebookMetadata": {
    "mostRecentlyExecutedCommandWithImplicitDF": {
     "commandId": 4855009564972058,
     "dataframes": [
      "_sqldf"
     ]
    },
    "pythonIndentUnit": 4
   },
   "notebookName": "imdb_analysis",
   "widgets": {}
  },
  "language_info": {
   "name": "python"
  }
 },
 "nbformat": 4,
 "nbformat_minor": 0
}
