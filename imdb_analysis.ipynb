{
 "cells": [
  {
   "cell_type": "code",
   "execution_count": 0,
   "metadata": {
    "application/vnd.databricks.v1+cell": {
     "cellMetadata": {
      "byteLimit": 2048000,
      "rowLimit": 10000
     },
     "inputWidgets": {},
     "nuid": "6473428c-7d72-47bd-963b-424787d219cc",
     "showTitle": false,
     "tableResultSettingsMap": {},
     "title": ""
    }
   },
   "outputs": [],
   "source": [
    "%pip install bs4"
   ]
  },
  {
   "cell_type": "code",
   "execution_count": 0,
   "metadata": {
    "application/vnd.databricks.v1+cell": {
     "cellMetadata": {
      "byteLimit": 2048000,
      "rowLimit": 10000
     },
     "inputWidgets": {},
     "nuid": "e250ca26-99ae-42f7-91fb-72f06f153fb4",
     "showTitle": false,
     "tableResultSettingsMap": {},
     "title": ""
    }
   },
   "outputs": [],
   "source": [
    "from bs4 import BeautifulSoup\n",
    "import os\n",
    "import pandas as pd\n",
    "import requests\n",
    "import shutil\n",
    "import urllib.request"
   ]
  },
  {
   "cell_type": "code",
   "execution_count": 0,
   "metadata": {
    "application/vnd.databricks.v1+cell": {
     "cellMetadata": {
      "byteLimit": 2048000,
      "rowLimit": 10000
     },
     "inputWidgets": {},
     "nuid": "2a6655a9-4718-4401-82c8-d7bcadb6376c",
     "showTitle": false,
     "tableResultSettingsMap": {},
     "title": ""
    }
   },
   "outputs": [],
   "source": [
    "credential_df = spark.sql(\"SHOW STORAGE CREDENTIALS\")"
   ]
  },
  {
   "cell_type": "code",
   "execution_count": 0,
   "metadata": {
    "application/vnd.databricks.v1+cell": {
     "cellMetadata": {
      "byteLimit": 2048000,
      "rowLimit": 10000
     },
     "inputWidgets": {},
     "nuid": "b3a3dd2d-afc4-4c27-bce1-27c0bda7635a",
     "showTitle": false,
     "tableResultSettingsMap": {},
     "title": ""
    }
   },
   "outputs": [],
   "source": [
    "credential_df = spark.sql(\"SHOW STORAGE CREDENTIALS\")\n",
    "unity_storage_credential = credential_df.collect()[1][\"name\"]\n",
    "bronze_external_location_name = \"bronze_storage_location\"\n",
    "bronze_url = \"abfss://databricks@djsdatabricksstor.dfs.core.windows.net/bronze\""
   ]
  },
  {
   "cell_type": "code",
   "execution_count": 0,
   "metadata": {
    "application/vnd.databricks.v1+cell": {
     "cellMetadata": {
      "byteLimit": 2048000,
      "rowLimit": 10000
     },
     "inputWidgets": {},
     "nuid": "347fe2da-3468-498a-b308-664563098fdd",
     "showTitle": false,
     "tableResultSettingsMap": {},
     "title": ""
    }
   },
   "outputs": [],
   "source": [
    "location_query = \"\"\"\n",
    "CREATE EXTERNAL LOCATION IF NOT EXISTS `{0}`\n",
    "URL '{1}'\n",
    "WITH (STORAGE CREDENTIAL `{2}`);\n",
    "\"\"\".format(bronze_external_location_name,bronze_url,unity_storage_credential)\n",
    "\n",
    "spark.sql(location_query)\n"
   ]
  },
  {
   "cell_type": "code",
   "execution_count": 0,
   "metadata": {
    "application/vnd.databricks.v1+cell": {
     "cellMetadata": {
      "byteLimit": 2048000,
      "rowLimit": 10000
     },
     "inputWidgets": {},
     "nuid": "487101bc-c413-478f-b3ea-456319edfc86",
     "showTitle": false,
     "tableResultSettingsMap": {},
     "title": ""
    }
   },
   "outputs": [],
   "source": [
    "volume_location = \"abfss://databricks@djsdatabricksstor.dfs.core.windows.net/bronze\"\n",
    "volume_name =\"main.djsprojects.bronze\"\n",
    "volume_query = \"\"\"\n",
    "CREATE EXTERNAL VOLUME IF NOT EXISTS {0}\n",
    "       LOCATION '{1}'\n",
    "\"\"\".format(volume_name, volume_location)\n",
    "\n",
    "spark.sql(volume_query)"
   ]
  },
  {
   "cell_type": "code",
   "execution_count": 0,
   "metadata": {
    "application/vnd.databricks.v1+cell": {
     "cellMetadata": {
      "byteLimit": 2048000,
      "rowLimit": 10000
     },
     "inputWidgets": {},
     "nuid": "bb2d6726-2524-45de-ac73-6ff829d9da77",
     "showTitle": false,
     "tableResultSettingsMap": {},
     "title": ""
    }
   },
   "outputs": [],
   "source": [
    "download_path = '/Volumes/{0}'.format(volume_name.replace('.','/'))"
   ]
  },
  {
   "cell_type": "code",
   "execution_count": 0,
   "metadata": {
    "application/vnd.databricks.v1+cell": {
     "cellMetadata": {
      "byteLimit": 2048000,
      "rowLimit": 10000
     },
     "inputWidgets": {},
     "nuid": "3310efb2-ad4e-4b99-9ebb-624712268ca8",
     "showTitle": false,
     "tableResultSettingsMap": {},
     "title": ""
    }
   },
   "outputs": [],
   "source": [
    "url = 'https://datasets.imdbws.com/'\n",
    "html_content = requests.get(url).text\n",
    "# Parse the HTML content\n",
    "soup = BeautifulSoup(html_content, 'html.parser')\n",
    "\n",
    "# Find the list by its ID\n",
    "items_list = soup.find('ul')\n",
    "for item in items_list.findAll('a'):\n",
    "   file_name =item.getText()\n",
    "   decompressed_file_name = file_name.replace('.gz', '')\n",
    "   file_path = item.get('href')\n",
    "   dest_download_path = \"/tmp/{}\".format(file_name)\n",
    "   urllib.request.urlretrieve(file_path, dest_download_path)\n",
    "   os.system('gzip -d {}'.format(dest_download_path))\n",
    "   os.system(\"cp /tmp/{0} {1}\".format(decompressed_file_name, download_path))"
   ]
  },
  {
   "cell_type": "code",
   "execution_count": 0,
   "metadata": {
    "application/vnd.databricks.v1+cell": {
     "cellMetadata": {
      "byteLimit": 2048000,
      "rowLimit": 10000
     },
     "inputWidgets": {},
     "nuid": "511d06f0-a864-4adf-adbd-9f3207f9e5ae",
     "showTitle": false,
     "tableResultSettingsMap": {},
     "title": ""
    }
   },
   "outputs": [],
   "source": [
    "for file in dbutils.fs.ls(download_path):\n",
    "    table_name = file.name.replace('.tsv', '').replace('.', '_')\n",
    "    path = file.path\n",
    "    df = spark.read.option(\"delimiter\", \"\\t\").option(\"header\", \"true\").csv(path)\n",
    "    df.write.saveAsTable(\"main.djsprojects.{0}\".format(table_name))"
   ]
  },
  {
   "cell_type": "code",
   "execution_count": 0,
   "metadata": {
    "application/vnd.databricks.v1+cell": {
     "cellMetadata": {
      "byteLimit": 2048000,
      "implicitDf": true,
      "rowLimit": 10000
     },
     "inputWidgets": {},
     "nuid": "48f3add9-8a95-482f-be9a-a7ef86fdeff6",
     "showTitle": false,
     "tableResultSettingsMap": {},
     "title": ""
    }
   },
   "outputs": [],
   "source": [
    "%sql\n",
    "SELECT\n",
    "  tb.startYear,\n",
    "  tb.genres,\n",
    "  tr.averageRating \n",
    "FROM main.djsprojects.title_basics AS tb\n",
    "INNER JOIN main.djsprojects.title_ratings AS tr ON tb.tconst = tr.tconst \n",
    "WHERE tb.titleType = 'movie'\n",
    "GROUP BY tb.genres,tr.averageRating,tb.startYear\n",
    "ORDER BY tr.averageRating DESC\n",
    "LIMIT 10\n"
   ]
  },
  {
   "cell_type": "code",
   "execution_count": 0,
   "metadata": {
    "application/vnd.databricks.v1+cell": {
     "cellMetadata": {},
     "inputWidgets": {},
     "nuid": "548e6698-56f6-482e-ad84-55dc100b031c",
     "showTitle": false,
     "tableResultSettingsMap": {},
     "title": ""
    }
   },
   "outputs": [],
   "source": [
    " "
   ]
  }
 ],
 "metadata": {
  "application/vnd.databricks.v1+notebook": {
   "computePreferences": {
    "hardware": {
     "accelerator": null,
     "gpuPoolId": null,
     "memory": null
    }
   },
   "dashboards": [],
   "environmentMetadata": {
    "base_environment": "",
    "client": "2"
   },
   "language": "python",
   "notebookMetadata": {
    "mostRecentlyExecutedCommandWithImplicitDF": {
     "commandId": 4855009564972058,
     "dataframes": [
      "_sqldf"
     ]
    },
    "pythonIndentUnit": 4
   },
   "notebookName": "imdb_analysis",
   "widgets": {}
  },
  "language_info": {
   "name": "python"
  }
 },
 "nbformat": 4,
 "nbformat_minor": 0
}
